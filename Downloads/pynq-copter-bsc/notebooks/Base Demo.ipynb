{
 "cells": [
  {
   "cell_type": "markdown",
   "metadata": {},
   "source": [
    "# Demonstrating the pynqcopter.base Overlay\n",
    "\n",
    "This is a simple demonstration of `pynqcopter.base.baseOverlay`. This re-uses the ctrlLoop core of the PYNQ-HLS Tutorial."
   ]
  },
  {
   "cell_type": "code",
   "execution_count": 1,
   "metadata": {},
   "outputs": [],
   "source": [
    "from pynqcopter.base import baseOverlay\n",
    "overlay = baseOverlay('base.bit')"
   ]
  },
  {
   "cell_type": "markdown",
   "metadata": {},
   "source": [
    "To understand what has changed, look at the IP Dict:"
   ]
  },
  {
   "cell_type": "code",
   "execution_count": 4,
   "metadata": {},
   "outputs": [
    {
     "data": {
      "text/plain": [
       "{'ctrlLoop': {'addr_range': 4096,\n",
       "  'driver': pynqcopter.ip.ctrlloop.ctrlloop.CtrlLoop,\n",
       "  'fullpath': 'ctrlLoop',\n",
       "  'gpio': {},\n",
       "  'interrupts': {'interrupt': {'controller': 'plIntrController',\n",
       "    'fullpath': 'ctrlLoop/interrupt',\n",
       "    'index': 0}},\n",
       "  'phys_addr': 1073741824,\n",
       "  'state': None,\n",
       "  'type': 'UCSD:hlsip:ctrlloop:1.0'},\n",
       " 'plIntrController': {'addr_range': 4096,\n",
       "  'driver': pynq.overlay.DefaultIP,\n",
       "  'fullpath': 'plIntrController',\n",
       "  'gpio': {},\n",
       "  'interrupts': {},\n",
       "  'phys_addr': 1073745920,\n",
       "  'state': None,\n",
       "  'type': 'xilinx.com:ip:axi_intc:4.1'}}"
      ]
     },
     "execution_count": 4,
     "metadata": {},
     "output_type": "execute_result"
    }
   ],
   "source": [
    "overlay.ip_dict"
   ]
  },
  {
   "cell_type": "markdown",
   "metadata": {},
   "source": [
    "The driver for the `ctrlLoop` is now `pynqcopter.ip.ctrlloop.ctrlloop.CtrlLoop`. This file is located in the `pynq-copter/pynqcopter/ip/ctrlloop` folder.\n",
    "\n",
    "Each HLS IP should have its own separate driver file. \n",
    "\n",
    "Now launch the overlay: "
   ]
  },
  {
   "cell_type": "code",
   "execution_count": 3,
   "metadata": {},
   "outputs": [],
   "source": [
    "overlay.ctrlLoop.launch()"
   ]
  },
  {
   "cell_type": "code",
   "execution_count": null,
   "metadata": {
    "collapsed": true
   },
   "outputs": [],
   "source": []
  }
 ],
 "metadata": {
  "kernelspec": {
   "display_name": "Python 3",
   "language": "python",
   "name": "python3"
  },
  "language_info": {
   "codemirror_mode": {
    "name": "ipython",
    "version": 3
   },
   "file_extension": ".py",
   "mimetype": "text/x-python",
   "name": "python",
   "nbconvert_exporter": "python",
   "pygments_lexer": "ipython3",
   "version": "3.6.0"
  }
 },
 "nbformat": 4,
 "nbformat_minor": 2
}
